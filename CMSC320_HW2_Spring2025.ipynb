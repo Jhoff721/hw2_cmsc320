{
 "cells": [
  {
   "cell_type": "markdown",
   "metadata": {
    "id": "vKLgKS1btvRB"
   },
   "source": [
    "# **HOMEWORK 2: BRAIN CONDITIONING STATS** 📊\n",
    "## **DUE: *March 04, 2025 @ 11:59 PM***\n",
    "## **24-HR LATE DUE DATE WITH A 15% PENALTY: *March 5, 2025 @ 11:59 PM***\n"
   ]
  },
  {
   "cell_type": "markdown",
   "metadata": {
    "id": "uQmzLo3dt1Hm"
   },
   "source": [
    "**Objective:**  \n",
    "\n",
    "The aim of this assignment is to deepen students' understanding of statistics and hypothesis testing using Python. By engaging with some theortical questions as well as practical exercises, students will apply statistical methods and perform hypothesis tests, using Python to code and execute these techniques. This approach will help solidify their grasp of statistical principles and their application in Python, bridging theoretical knowledge with practical skills.\n",
    "\n",
    "### **Reminder: Please make sure your code runs before submitting your work. Code sections that do not run will receive 0 credits, no partials will be given. This is VERY important in real project development.**\n",
    "### **DO NOT REMOVE ANY PART OF ANY OF THE QUESTIONS OR YOU LOSE CREDIT**\n",
    "### *No Hardcoding either*  😋📉\n"
   ]
  },
  {
   "cell_type": "markdown",
   "metadata": {
    "id": "QhnhliH6Fdga"
   },
   "source": [
    "# **Part 1: Statistics Problem Solving**"
   ]
  },
  {
   "cell_type": "markdown",
   "metadata": {
    "id": "hwJSnRGwG2p7"
   },
   "source": [
    "##Q1) (10 POINTS) Bayes Theorem\n",
    "\n",
    "![bayes](https://media.licdn.com/dms/image/v2/D4E22AQGHMCBJWRJSMw/feedshare-shrink_2048_1536/feedshare-shrink_2048_1536/0/1689744170807?e=1729728000&v=beta&t=98vdDAWzfi-GuX9L0XcASCfT2IQn9_LgQ4QoWdRIltM)\n"
   ]
  },
  {
   "cell_type": "markdown",
   "metadata": {
    "id": "sDMy_c7bGSFq"
   },
   "source": [
    "Suppose some hacker found a dataset on uselessdatasets.com containing information about three different types of users on an online platform: \"bloggers\", \"shoppers\", and \"reviewers\". The data has 10,000 users. There are 4,500 bloggers, 6,000 shoppers, and 5,500 reviewers. The users could be in multiple categories. 2,000 of the bloggers are shoppers, 1,800 of the bloggers are reviewers, and 3,000 shoppers are also reviewers.\n",
    "\n",
    "Answer the following questions:"
   ]
  },
  {
   "cell_type": "markdown",
   "metadata": {
    "id": "tpJaCCIWHb-q"
   },
   "source": [
    "1. (3 POINTS) If $X$ is a random variable that represents the users that were cross listed into all 3 categories, what is the value of $X$? (Hint: think of a Venn Diagram.)\n",
    "\n",
    "> $X$ = 800\n",
    "\n",
    "\n",
    "\n"
   ]
  },
  {
   "cell_type": "markdown",
   "metadata": {
    "id": "iSI0rgMFHeqV"
   },
   "source": [
    "2. (3 POINTS) Calculate the probability that a randomly selected shopper is also a reviewer. (Hint: Use Bayes Theorem)\n",
    "\n",
    "> P(reviewer | shopper) = 1/2 = 0.50 = 50%\n",
    "\n",
    "\n"
   ]
  },
  {
   "cell_type": "markdown",
   "metadata": {
    "id": "EdwmsNa_Hexi"
   },
   "source": [
    "3. (4 POINTS) Calculate the probability that a random user is in exactly two categories but not all three.\n",
    "\n",
    "> P(exactly 2 categories) = 0.44 = 44%\n"
   ]
  },
  {
   "cell_type": "markdown",
   "metadata": {
    "id": "tY38nVLZIL0O"
   },
   "source": [
    "##Q2) (6 POINTS) Expected Values\n"
   ]
  },
  {
   "cell_type": "markdown",
   "metadata": {
    "id": "S8XTaX1Lcg1T"
   },
   "source": [
    "Let $T$ be the set of all sequences of two rolls of a dice. Let $S$ be the set of all sequences of three rolls of a dice. Let $X_n$ be the sum of the number of dots on $n$ dice rolls.\n",
    "\n",
    "Answer the following question:\n"
   ]
  },
  {
   "cell_type": "markdown",
   "metadata": {
    "id": "MJGNtK5eck07"
   },
   "source": [
    "1. (3 POINTS) What is $\\mathbb{E}[X_2]$?\n",
    "\n",
    ">  $\\mathbb{E}[X_2]$ = 7\n",
    "\n"
   ]
  },
  {
   "cell_type": "markdown",
   "metadata": {
    "id": "P2GzKvNAcuKD"
   },
   "source": [
    "2. (3 POINTS) What is $\\mathbb{E}[X_3]$?\n",
    "\n",
    ">  $\\mathbb{E}[X_2]$ = 10.5\n"
   ]
  },
  {
   "cell_type": "markdown",
   "metadata": {
    "id": "_lrY31ZOc6cV"
   },
   "source": [
    "##Q3) (6 POINTS) Probability distribution"
   ]
  },
  {
   "cell_type": "markdown",
   "metadata": {
    "id": "5i8SGbTPdAB9"
   },
   "source": [
    "Let  $X$  be a continuous random variable that follows a normal distribution with mean  $\\mu = 10$  and standard deviation  $\\sigma = 2$.\n",
    "\n",
    "Answer the following question:"
   ]
  },
  {
   "cell_type": "markdown",
   "metadata": {
    "id": "iBWOOR8RdMRQ"
   },
   "source": [
    "1. (3 POINTS) What is the probability that $X$ takes a value between 8 and 12?\n",
    "Hints: You may have to utilize the standard normal table: https://math.arizona.edu/~jwatkins/normal-table.pdf\n",
    "\n",
    "\n",
    "\n",
    "\n",
    "> **How to read the \"Standard Normal Cumulative Probability Table\" table:**\n",
    "\n",
    "\n",
    "*   Rows and Columns: The rows correspond to the first digit and first decimal place of z. The columns correspond to the second decimal place of z.\n",
    "*   Check out: https://byjus.com/maths/z-score-table/\n",
    "\n",
    "\n",
    "\n",
    "> P(8 <= $X$ <= 12) = 68.26%\n",
    "\n",
    "\n",
    "\n",
    "\n"
   ]
  },
  {
   "cell_type": "markdown",
   "metadata": {
    "id": "uk5gSI7Yhbgi"
   },
   "source": [
    "2. (3 POINTS) What is the probability that $X$ takes a value greater than 14?\n",
    "\n",
    "> P($X$ < 14) = 2.28%\n",
    "\n"
   ]
  },
  {
   "cell_type": "markdown",
   "metadata": {
    "id": "qd62j-z1FlKj"
   },
   "source": [
    "# **Part 2: Python Warmups**"
   ]
  },
  {
   "cell_type": "markdown",
   "metadata": {
    "id": "LtrQ-Vrdczic"
   },
   "source": [
    "##Q1) (10 POINTS) Bernoulli Trials\n",
    "\n",
    "Consider a sequence of $n$ Bernoulli trials with success probability $p$ per trial. A string of consecutive successes is known as a *streak*.\n",
    "\n",
    "> **Task to do:** Write a function that returns a `collections.Counter` that maps the length of a streak $k$ to the number of times it is observed in an input sequence `xs`. For example, if `xs = [0, 1, 0, 1, 1, 0, 1, 1, 1, 0, 1, 1, 1, 0, 0, 1]`, the output would be `Counter({1: 2, 2: 1, 3: 2})`. We have imported `Counter` from the Python `collections` library for you in the code block below.\n"
   ]
  },
  {
   "cell_type": "code",
   "execution_count": null,
   "metadata": {
    "id": "EjCkESEmc9Cz"
   },
   "outputs": [],
   "source": [
    "from collections import Counter\n",
    "\n",
    "def count_streaks(xs):\n",
    "    streak = 0\n",
    "    ys = []\n",
    "    # loop through array\n",
    "    for input in xs:\n",
    "    # if a one, start a counter each time 1\n",
    "        if input == 1:\n",
    "            streak += 1\n",
    "    # if a 0, reset the count and add the number into another array\n",
    "        else:\n",
    "            if streak != 0:\n",
    "                ys.append(streak)\n",
    "                streak = 0\n",
    "\n",
    "    # left over count\n",
    "    if streak != 0:\n",
    "                ys.append(streak)\n",
    "                streak = 0\n",
    "\n",
    "    # Sort counter\n",
    "    c = Counter(ys)\n",
    "    sorted_counter = {key: val for key, val in sorted(c.items(), key = lambda ele: ele[0])}\n",
    "    return sorted_counter"
   ]
  },
  {
   "cell_type": "code",
   "execution_count": 18,
   "metadata": {
    "id": "J2w_2uB7dQin"
   },
   "outputs": [
    {
     "name": "stdout",
     "output_type": "stream",
     "text": [
      "{1: 2, 2: 1, 3: 2}\n"
     ]
    },
    {
     "data": {
      "text/plain": [
       "{1: 125036,\n",
       " 2: 62589,\n",
       " 3: 31100,\n",
       " 4: 15859,\n",
       " 5: 7699,\n",
       " 6: 3893,\n",
       " 7: 1921,\n",
       " 8: 946,\n",
       " 9: 470,\n",
       " 10: 245,\n",
       " 11: 126,\n",
       " 12: 45,\n",
       " 13: 29,\n",
       " 14: 11,\n",
       " 15: 9,\n",
       " 16: 2,\n",
       " 17: 6,\n",
       " 18: 1}"
      ]
     },
     "execution_count": 18,
     "metadata": {},
     "output_type": "execute_result"
    }
   ],
   "source": [
    "# Use this cell to test your answer. MAKE SURE YOUR RESULTS ARE SHOWN BELOW AFTER RUNNING THIS BOX\n",
    "import numpy as np\n",
    "print(count_streaks([0, 1, 0, 1, 1, 0, 1, 1, 1, 0, 1, 1, 1, 0, 0, 1]))\n",
    "np.random.seed(0)\n",
    "count_streaks(np.random.randint(0,2,1000000))"
   ]
  },
  {
   "cell_type": "markdown",
   "metadata": {
    "id": "soG82SCihwDT"
   },
   "source": [
    "##Q2) (10 POINTS) Distribution and Visualization\n",
    "\n",
    "The goal of solving this problem is to become familiar with using built-in Python libraries to create various distributions. Plotting serves as an initial step toward data visualization."
   ]
  },
  {
   "cell_type": "markdown",
   "metadata": {
    "id": "Yh5maPG3iKSZ"
   },
   "source": [
    "1. (3 POINTS) Create a normally distributed random variable with mean $\\mu = 0$, standard deviation $\\sigma = 5$ and sample size $n=1000$. Plot the histogram. Add labels and titles and other details as desired to make your plot understandable. You must use the packages `numpy` and `matplotlib`."
   ]
  },
  {
   "cell_type": "code",
   "execution_count": 21,
   "metadata": {
    "id": "GGE_YQ2eiJPh"
   },
   "outputs": [
    {
     "data": {
      "image/png": "[encoded data removed]",
      "text/plain": [
       "<Figure size 640x480 with 1 Axes>"
      ]
     },
     "metadata": {},
     "output_type": "display_data"
    }
   ],
   "source": [
    "import numpy as np\n",
    "import matplotlib.pyplot as plt\n",
    "\n",
    "# Parameters\n",
    "mu = 0      # Mean\n",
    "sigma = 5   # Standard deviation\n",
    "size = 1000 # Number of samples\n",
    "\n",
    "# Generate random samples\n",
    "samples = np.random.normal(loc=mu, scale=sigma, size=size)\n",
    "\n",
    "# Plot the histogram\n",
    "histogram = plt.hist(samples)\n",
    "\n",
    "# Labels and title\n",
    "plt.title(\"Sample histogram\")\n",
    "plt.xlabel(\"Value\")\n",
    "plt.ylabel(\"Frequency\")\n",
    "\n",
    "# Show plot\n",
    "plt.show()"
   ]
  },
  {
   "cell_type": "markdown",
   "metadata": {
    "id": "9WZvmUTZmx11"
   },
   "source": [
    "2. (7 POINTS) We are exploring the Central Limit Theorem (CLT) using a Poisson distribution. Suppose you have a population that follows a Poisson distribution with a rate parameter (or mean)  $\\lambda = 3$ . You will draw multiple samples from this population and calculate the mean of each sample.\n",
    "\n",
    "Write a Python function that simulates this process. The input of the function should be the sample size, the number of samples, and lambda. The function should:\n",
    "1. Generate a population with a Poisson distribution (check: https://numpy.org/doc/stable/reference/random/generated/numpy.random.poisson.html).\n",
    "2. Draw multiple samples and calculate the mean of each sample.\n",
    "3. Return these means as an iterable.\n",
    "\n",
    "*There will be no partial credit granted for this question. Any hardcoded results will receive a 0.*"
   ]
  },
  {
   "cell_type": "code",
   "execution_count": 22,
   "metadata": {
    "id": "Q7HqSg1AnHy4"
   },
   "outputs": [],
   "source": [
    "import numpy as np\n",
    "\n",
    "def poisson_clt_simulator(sample_size, num_samples, lambda_):\n",
    "    sample_means = []\n",
    "    for _ in range(num_samples):\n",
    "        sample = np.random.poisson(lam=lambda_, size=sample_size)\n",
    "        sample_means.append(np.mean(sample)) # Think carefully what you are appending here, refer to variable name\n",
    "    return sample_means"
   ]
  },
  {
   "cell_type": "markdown",
   "metadata": {
    "id": "hcIu1vJCqUTj"
   },
   "source": [
    "  Now use the function to generate 1,000 sample means with sample size 50. Plot the distribution of these sample means to visualize the Central Limit Theorem. Add labels and titles and other details as desired to make your plot understandable."
   ]
  },
  {
   "cell_type": "code",
   "execution_count": 23,
   "metadata": {
    "id": "jWy2qFXtrfSm"
   },
   "outputs": [
    {
     "data": {
      "image/png": "[encoded data removed]",
      "text/plain": [
       "<Figure size 640x480 with 1 Axes>"
      ]
     },
     "metadata": {},
     "output_type": "display_data"
    }
   ],
   "source": [
    "import matplotlib.pyplot as plt\n",
    "\n",
    "# Parameters\n",
    "sample_size = 50\n",
    "num_samples = 1000\n",
    "lambda_ = 3\n",
    "\n",
    "# Simulate and get sample means\n",
    "sample_means = poisson_clt_simulator(sample_size=sample_size, num_samples=num_samples, lambda_=lambda_)\n",
    "\n",
    "# Plot the distribution of sample means\n",
    "plt.hist(sample_means)\n",
    "\n",
    "# Add labels and title\n",
    "plt.xlabel('Sample Mean')\n",
    "plt.ylabel('Density')\n",
    "plt.title('Distribution of Sample Means (CLT Visualization for Poisson)')\n",
    "\n",
    "# Show plot\n",
    "plt.show()"
   ]
  },
  {
   "cell_type": "markdown",
   "metadata": {
    "id": "-vIf9sj-rAuk"
   },
   "source": [
    "##Q3) (18 POINTS) More on Distributions\n",
    "\n"
   ]
  },
  {
   "cell_type": "markdown",
   "metadata": {
    "id": "GbpadK721M9L"
   },
   "source": [
    "You can't get around with distributions while data sciencing. Let's explore how distributions are related to each other."
   ]
  },
  {
   "cell_type": "markdown",
   "metadata": {
    "id": "WSNFwHvQ111k"
   },
   "source": [
    "**1. (6 POINTS)** Since we have successfully demonstrated how CLT works, lets see what we can do with it.\n",
    "\n",
    "*Check out https://numpy.org/doc/stable/reference/random/generated/numpy.random.binomial.html for how to create independent binomial distributions*\n"
   ]
  },
  {
   "cell_type": "markdown",
   "metadata": {
    "id": "l41MNSr63cZG"
   },
   "source": [
    "\n",
    "**TASK:** Show that a Binomial$( n, p )$ distribution approximates a Normal distribution when n is LARGE (due to CLT).\n",
    "Complete the following code according to comments."
   ]
  },
  {
   "cell_type": "code",
   "execution_count": 27,
   "metadata": {
    "id": "6e--jGg14BLg"
   },
   "outputs": [
    {
     "data": {
      "image/png": "[encoded data removed]",
      "text/plain": [
       "<Figure size 640x480 with 1 Axes>"
      ]
     },
     "metadata": {},
     "output_type": "display_data"
    }
   ],
   "source": [
    "import numpy as np\n",
    "import matplotlib.pyplot as plt\n",
    "\n",
    "size = 10000\n",
    "n, p = 50, 0.5  # Large n for normal approximation\n",
    "binomial_samples = np.random.binomial(n, p, size=size)\n",
    "normal_samples = np.random.normal(loc=n*p, scale=np.sqrt(n*p*(1-p)), size=size) # Don't worry about this line unless you are interested\n",
    "\n",
    "plt.hist(binomial_samples, bins=50, density=True, alpha=0.6, label=\"Binomial(50,0.5)\")\n",
    "plt.hist(normal_samples, bins=50, density=True, alpha=0.6, label=\"Normal Approximation\")\n",
    "plt.legend()\n",
    "plt.title(\"Binomial vs. Normal Approximation\")\n",
    "plt.xlabel(\"Value\")\n",
    "plt.ylabel(\"Density\")\n",
    "plt.show()"
   ]
  },
  {
   "cell_type": "markdown",
   "metadata": {
    "id": "ZrcwdGRf5Ug0"
   },
   "source": [
    "**2. (6 POINTS)** Now with Poisson\n",
    "\n",
    "*Check out https://numpy.org/doc/stable/reference/random/generated/numpy.random.poisson.html for how to create independent poisson distributions*"
   ]
  },
  {
   "cell_type": "markdown",
   "metadata": {
    "id": "Dso81KYy5zt9"
   },
   "source": [
    "**TASK:** Show that when n is large and p is small, a Binomial$( n, p )$ distribution approximates a Poisson distribution with  $\\lambda = np$.\n",
    "Complete the following code according to comments."
   ]
  },
  {
   "cell_type": "code",
   "execution_count": 29,
   "metadata": {
    "id": "kA4nORaM6QhT"
   },
   "outputs": [
    {
     "data": {
      "image/png": "[encoded data removed]",
      "text/plain": [
       "<Figure size 640x480 with 1 Axes>"
      ]
     },
     "metadata": {},
     "output_type": "display_data"
    }
   ],
   "source": [
    "size = 10000\n",
    "n, p = 100, 0.05  # np = 5, small p\n",
    "binomial_samples = np.random.binomial(n, p, size=size)\n",
    "poisson_samples = np.random.poisson(lam=n*p, size=size)\n",
    "\n",
    "plt.hist(binomial_samples, bins=20, density=True, alpha=0.6, label=\"Binomial(100, 0.05)\")\n",
    "plt.hist(poisson_samples, bins=20, density=True, alpha=0.6, label=\"Poisson(λ=5)\")\n",
    "plt.legend()\n",
    "plt.title(\"Poisson Approximation to Binomial\")\n",
    "plt.xlabel(\"Value\")\n",
    "plt.ylabel(\"Density\")\n",
    "plt.show()"
   ]
  },
  {
   "cell_type": "markdown",
   "metadata": {
    "id": "J6bGAi_f7oXX"
   },
   "source": [
    "**3. (6 POINTS)** Finally, a challenging one, but worthy of thinking."
   ]
  },
  {
   "cell_type": "markdown",
   "metadata": {
    "id": "1i5TaSYL7zDv"
   },
   "source": [
    "We know that Poisson counts the number of arrivals, while Exponential models the time between them.\n",
    "\n",
    "**TASK:** Show that the waiting time between Poisson events follows an $Exponential(\\lambda)$ distribution\n",
    "\n",
    "*Check out https://numpy.org/doc/stable/reference/random/generated/numpy.random.exponential.html *\n",
    "\n",
    "\n",
    "\n"
   ]
  },
  {
   "cell_type": "markdown",
   "metadata": {
    "id": "H58TflBzD3Sd"
   },
   "source": [
    "> **NOTES: **If you dont know about Exponensial Distribution, check out:\n",
    "\n",
    "\n",
    "*   https://www.probabilitycourse.com/chapter4/4_2_2_exponential.php\n",
    "*   https://www.ncl.ac.uk/webtemplate/ask-assets/external/maths-resources/business/probability/exponential-distribution.html\n",
    "\n",
    "\n",
    "\n",
    "\n",
    "\n"
   ]
  },
  {
   "cell_type": "markdown",
   "metadata": {
    "id": "FRdCRFyJD3nC"
   },
   "source": [
    "Complete the following code according to comments."
   ]
  },
  {
   "cell_type": "code",
   "execution_count": null,
   "metadata": {
    "id": "CxtOzsiJ8H-b"
   },
   "outputs": [
    {
     "data": {
      "image/png": "[encoded data removed]",
      "text/plain": [
       "<Figure size 640x480 with 1 Axes>"
      ]
     },
     "metadata": {},
     "output_type": "display_data"
    }
   ],
   "source": [
    "size = 10000\n",
    "lambda_exp = 3  # rate for Poisson\n",
    "\n",
    "poisson_time_intervals = np.random.exponential(scale= 1/lambda_exp, size=size) # The variable name might be tricky, but think carefully exactly what Poisson represents\n",
    "exponential_samples =  np.random.exponential(scale= 1/lambda_exp, size=size) # What is the scale of exponential, and how is it related to lambda?\n",
    "\n",
    "plt.hist(exponential_samples, bins=50, density=True, alpha=0.6, label=\"Exponential\")\n",
    "plt.legend()\n",
    "plt.title(\"Exponential Distribution as Interarrival Times\")\n",
    "plt.xlabel(\"Value\")\n",
    "plt.ylabel(\"Density\")\n",
    "plt.show()"
   ]
  },
  {
   "cell_type": "markdown",
   "metadata": {
    "id": "E8O0YGnV4Cbp"
   },
   "source": [
    "# **Part 3: Hypothesis Testing**"
   ]
  },
  {
   "cell_type": "markdown",
   "metadata": {
    "id": "lr1gnMPH4K95"
   },
   "source": [
    "##Q1) (14 POINTS) Hypothesis Tests and P_value"
   ]
  },
  {
   "cell_type": "markdown",
   "metadata": {
    "id": "fp9tnOacNuMX"
   },
   "source": [
    "**TASK:** For the next 5 problems, please describe when you would use each hypothesis test:"
   ]
  },
  {
   "cell_type": "markdown",
   "metadata": {
    "id": "gMYJ8tll4cTM"
   },
   "source": [
    "\n",
    "\n",
    "*   Chi-Squared Test\n",
    "*   Z test\n",
    "*   T test\n",
    "*   Mann-Whitney U Test\n",
    "*   Anova\n",
    "\n",
    "\n"
   ]
  },
  {
   "cell_type": "markdown",
   "metadata": {
    "id": "Pkn-uG4cETC9"
   },
   "source": [
    "1.1  (2 POINTS) Chi-Squared Test\n",
    "\n",
    "> To test if two categorical sets of data come from the same distribution. For example, to test if gender and favorite color have an association.\n"
   ]
  },
  {
   "cell_type": "markdown",
   "metadata": {
    "id": "Lxfrp1xuEYzi"
   },
   "source": [
    "1.2  (2 POINTS) Z-Test\n",
    "\n",
    "\n",
    "> To test two a sample mean with a population mean. To see where the sample mean falls in the population mean. What standard deviation it is from the population mean. Which can tell us how likely that sample mean was. Z-test is different than T-test because it requires a large sample size and to know the standard deviation of the population mean. Used with continuous data.\n"
   ]
  },
  {
   "cell_type": "markdown",
   "metadata": {
    "id": "NbsWX4fxEZBg"
   },
   "source": [
    "1.3  (2 POINTS) T-Test\n",
    "\n",
    "\n",
    "> To test the difference between either one sample and an estimated population mean or two sample means. This is used instead of a Z-test if the sample sizes are small (less than 30) and the standard deviation is not known. Used with continuous data."
   ]
  },
  {
   "cell_type": "markdown",
   "metadata": {
    "id": "YegV9lSFEZO6"
   },
   "source": [
    "1.4  (2 POINTS) Man-Whitney U Test\n",
    "\n",
    "\n",
    "> To test two independent groups where their distribution is not normal. Compared to t-test and z-test where the assumption of normal distribution is required.\n"
   ]
  },
  {
   "cell_type": "markdown",
   "metadata": {
    "id": "mpPZpmtMEZfS"
   },
   "source": [
    "1.5  (2 POINTS) ANOVA Test\n",
    "\n",
    "\n",
    "> To test multiple groups' means to see the differences between them. The other tests above only compare 2 groups at a time. So the ANOVA test can be more powerful.\n",
    "\n"
   ]
  },
  {
   "cell_type": "markdown",
   "metadata": {
    "id": "jdYe6uWWKPtd"
   },
   "source": [
    "**1.6 (4 POINTS) :** Explain the statistical interpretation of a p-value. What is a p-value? What does it mean? Be sure to explain beyond just \"rejecting or failing to reject the null hypothesis.\"\n"
   ]
  },
  {
   "cell_type": "markdown",
   "metadata": {
    "id": "9zhdjJyjK1D7"
   },
   "source": [
    "> A p-value is the probability that the sample mean collected in an experiment is statistically significant. Which helps reject the null hypothesis or fails to reject the null hypothesis. If the p-value is less than or equal to the significance level (which is usually 1%, 3% or 5%), we reject the null hypothesis meaning we have strong evidence to believe the alterative hypothesis is correct. If the p-value is greater than the significance value, we fail to reject the null hypothesis meaning what we currently thought was the normal distribution of the data is correct."
   ]
  },
  {
   "cell_type": "markdown",
   "metadata": {
    "id": "va2vA-in5dWy"
   },
   "source": [
    "##Q2)  (2 POINTS) Create a DataFrame and Display"
   ]
  },
  {
   "cell_type": "code",
   "execution_count": 59,
   "metadata": {
    "id": "Ijr5bfGL5_l1"
   },
   "outputs": [],
   "source": [
    "import pandas as pd\n",
    "import matplotlib.pyplot as plt\n",
    "import scipy.stats as sts"
   ]
  },
  {
   "cell_type": "markdown",
   "metadata": {
    "id": "vqbjlGP6xFnm"
   },
   "source": [
    "### We are creating a DataFrame `df`. Load `colleges.csv` and display the DataFrame below.\n",
    "This college dataset contains a list of American colleges and their rankings, along with other details such as region, college type, student-to-faculty ratio, etc. In the sections below, you will develop hypotheses, test them, and draw conclusions.  "
   ]
  },
  {
   "cell_type": "code",
   "execution_count": 35,
   "metadata": {
    "id": "gYOPX768xFnm"
   },
   "outputs": [
    {
     "data": {
      "text/html": [
       "<div>\n",
       "<style scoped>\n",
       "    .dataframe tbody tr th:only-of-type {\n",
       "        vertical-align: middle;\n",
       "    }\n",
       "\n",
       "    .dataframe tbody tr th {\n",
       "        vertical-align: top;\n",
       "    }\n",
       "\n",
       "    .dataframe thead th {\n",
       "        text-align: right;\n",
       "    }\n",
       "</style>\n",
       "<table border=\"1\" class=\"dataframe\">\n",
       "  <thead>\n",
       "    <tr style=\"text-align: right;\">\n",
       "      <th></th>\n",
       "      <th>description</th>\n",
       "      <th>rank</th>\n",
       "      <th>organizationName</th>\n",
       "      <th>state</th>\n",
       "      <th>studentPopulation</th>\n",
       "      <th>campusSetting</th>\n",
       "      <th>medianBaseSalary</th>\n",
       "      <th>longitude</th>\n",
       "      <th>latitude</th>\n",
       "      <th>website</th>\n",
       "      <th>...</th>\n",
       "      <th>yearFounded</th>\n",
       "      <th>stateCode</th>\n",
       "      <th>collegeType</th>\n",
       "      <th>carnegieClassification</th>\n",
       "      <th>studentFacultyRatio</th>\n",
       "      <th>totalStudentPop</th>\n",
       "      <th>undergradPop</th>\n",
       "      <th>totalGrantAid</th>\n",
       "      <th>percentOfStudentsFinAid</th>\n",
       "      <th>percentOfStudentsGrant</th>\n",
       "    </tr>\n",
       "  </thead>\n",
       "  <tbody>\n",
       "    <tr>\n",
       "      <th>0</th>\n",
       "      <td>A leading global research university, MIT attr...</td>\n",
       "      <td>1</td>\n",
       "      <td>Massachusetts Institute of Technology</td>\n",
       "      <td>MA</td>\n",
       "      <td>12195</td>\n",
       "      <td>Urban</td>\n",
       "      <td>173700.0</td>\n",
       "      <td>-71.093539</td>\n",
       "      <td>42.359006</td>\n",
       "      <td>http://web.mit.edu</td>\n",
       "      <td>...</td>\n",
       "      <td>1861.0</td>\n",
       "      <td>MA</td>\n",
       "      <td>Private not-for-profit</td>\n",
       "      <td>Doctoral Universities: Very High Research Acti...</td>\n",
       "      <td>3</td>\n",
       "      <td>12195</td>\n",
       "      <td>4582</td>\n",
       "      <td>35299332.0</td>\n",
       "      <td>75.0</td>\n",
       "      <td>60.0</td>\n",
       "    </tr>\n",
       "    <tr>\n",
       "      <th>1</th>\n",
       "      <td>Stanford University sits just outside of Palo ...</td>\n",
       "      <td>2</td>\n",
       "      <td>Stanford University</td>\n",
       "      <td>CA</td>\n",
       "      <td>20961</td>\n",
       "      <td>Suburban</td>\n",
       "      <td>173500.0</td>\n",
       "      <td>-122.168924</td>\n",
       "      <td>37.431370</td>\n",
       "      <td>http://www.stanford.edu</td>\n",
       "      <td>...</td>\n",
       "      <td>1891.0</td>\n",
       "      <td>CA</td>\n",
       "      <td>Private not-for-profit</td>\n",
       "      <td>Doctoral Universities: Very High Research Acti...</td>\n",
       "      <td>4</td>\n",
       "      <td>20961</td>\n",
       "      <td>8464</td>\n",
       "      <td>51328461.0</td>\n",
       "      <td>70.0</td>\n",
       "      <td>55.0</td>\n",
       "    </tr>\n",
       "    <tr>\n",
       "      <th>2</th>\n",
       "      <td>One of the top public universities in the coun...</td>\n",
       "      <td>2</td>\n",
       "      <td>University of California, Berkeley</td>\n",
       "      <td>CA</td>\n",
       "      <td>45878</td>\n",
       "      <td>Urban</td>\n",
       "      <td>154500.0</td>\n",
       "      <td>-122.258393</td>\n",
       "      <td>37.869236</td>\n",
       "      <td>http://www.berkeley.edu</td>\n",
       "      <td>...</td>\n",
       "      <td>1868.0</td>\n",
       "      <td>CA</td>\n",
       "      <td>Public</td>\n",
       "      <td>Doctoral Universities: Very High Research Acti...</td>\n",
       "      <td>19</td>\n",
       "      <td>45878</td>\n",
       "      <td>33208</td>\n",
       "      <td>64495611.0</td>\n",
       "      <td>63.0</td>\n",
       "      <td>53.0</td>\n",
       "    </tr>\n",
       "    <tr>\n",
       "      <th>3</th>\n",
       "      <td>Princeton is a leading private research univer...</td>\n",
       "      <td>4</td>\n",
       "      <td>Princeton University</td>\n",
       "      <td>NJ</td>\n",
       "      <td>8532</td>\n",
       "      <td>Urban</td>\n",
       "      <td>167600.0</td>\n",
       "      <td>-74.659119</td>\n",
       "      <td>40.349855</td>\n",
       "      <td>http://www.princeton.edu</td>\n",
       "      <td>...</td>\n",
       "      <td>1746.0</td>\n",
       "      <td>NJ</td>\n",
       "      <td>Private not-for-profit</td>\n",
       "      <td>Doctoral Universities: Very High Research Acti...</td>\n",
       "      <td>4</td>\n",
       "      <td>8532</td>\n",
       "      <td>5516</td>\n",
       "      <td>44871096.0</td>\n",
       "      <td>62.0</td>\n",
       "      <td>61.0</td>\n",
       "    </tr>\n",
       "    <tr>\n",
       "      <th>4</th>\n",
       "      <td>Located in upper Manhattan, Columbia Universit...</td>\n",
       "      <td>5</td>\n",
       "      <td>Columbia University</td>\n",
       "      <td>NY</td>\n",
       "      <td>33882</td>\n",
       "      <td>Urban</td>\n",
       "      <td>148800.0</td>\n",
       "      <td>-73.961288</td>\n",
       "      <td>40.806515</td>\n",
       "      <td>http://www.columbia.edu</td>\n",
       "      <td>...</td>\n",
       "      <td>1754.0</td>\n",
       "      <td>NY</td>\n",
       "      <td>Private not-for-profit</td>\n",
       "      <td>Doctoral Universities: Very High Research Acti...</td>\n",
       "      <td>6</td>\n",
       "      <td>33882</td>\n",
       "      <td>8689</td>\n",
       "      <td>44615007.0</td>\n",
       "      <td>58.0</td>\n",
       "      <td>54.0</td>\n",
       "    </tr>\n",
       "    <tr>\n",
       "      <th>...</th>\n",
       "      <td>...</td>\n",
       "      <td>...</td>\n",
       "      <td>...</td>\n",
       "      <td>...</td>\n",
       "      <td>...</td>\n",
       "      <td>...</td>\n",
       "      <td>...</td>\n",
       "      <td>...</td>\n",
       "      <td>...</td>\n",
       "      <td>...</td>\n",
       "      <td>...</td>\n",
       "      <td>...</td>\n",
       "      <td>...</td>\n",
       "      <td>...</td>\n",
       "      <td>...</td>\n",
       "      <td>...</td>\n",
       "      <td>...</td>\n",
       "      <td>...</td>\n",
       "      <td>...</td>\n",
       "      <td>...</td>\n",
       "      <td>...</td>\n",
       "    </tr>\n",
       "    <tr>\n",
       "      <th>493</th>\n",
       "      <td>St. Joseph’s College is a private institution ...</td>\n",
       "      <td>494</td>\n",
       "      <td>St. Joseph's College (NY)</td>\n",
       "      <td>NY</td>\n",
       "      <td>5901</td>\n",
       "      <td>Urban</td>\n",
       "      <td>100900.0</td>\n",
       "      <td>-73.968304</td>\n",
       "      <td>40.690548</td>\n",
       "      <td>http://www.sjcny.edu</td>\n",
       "      <td>...</td>\n",
       "      <td>1916.0</td>\n",
       "      <td>NY</td>\n",
       "      <td>Private not-for-profit</td>\n",
       "      <td>Master's Colleges &amp; Universities: Medium Programs</td>\n",
       "      <td>12</td>\n",
       "      <td>5901</td>\n",
       "      <td>4429</td>\n",
       "      <td>11919881.0</td>\n",
       "      <td>99.0</td>\n",
       "      <td>99.0</td>\n",
       "    </tr>\n",
       "    <tr>\n",
       "      <th>494</th>\n",
       "      <td>A liberal arts college founded by the Moravian...</td>\n",
       "      <td>495</td>\n",
       "      <td>Moravian University</td>\n",
       "      <td>PA</td>\n",
       "      <td>2961</td>\n",
       "      <td>Urban</td>\n",
       "      <td>109800.0</td>\n",
       "      <td>-75.381596</td>\n",
       "      <td>40.630303</td>\n",
       "      <td>http://www.moravian.edu</td>\n",
       "      <td>...</td>\n",
       "      <td>1742.0</td>\n",
       "      <td>PA</td>\n",
       "      <td>Private not-for-profit</td>\n",
       "      <td>Baccalaureate Colleges: Arts &amp; Sciences Focus</td>\n",
       "      <td>11</td>\n",
       "      <td>2961</td>\n",
       "      <td>2268</td>\n",
       "      <td>12685943.0</td>\n",
       "      <td>100.0</td>\n",
       "      <td>100.0</td>\n",
       "    </tr>\n",
       "    <tr>\n",
       "      <th>495</th>\n",
       "      <td>Lawrence Technological University in Southfiel...</td>\n",
       "      <td>496</td>\n",
       "      <td>Lawrence Technological University</td>\n",
       "      <td>MI</td>\n",
       "      <td>3163</td>\n",
       "      <td>Urban</td>\n",
       "      <td>119900.0</td>\n",
       "      <td>-83.278458</td>\n",
       "      <td>42.450606</td>\n",
       "      <td>http://https://www.ltu.edu</td>\n",
       "      <td>...</td>\n",
       "      <td>NaN</td>\n",
       "      <td>MI</td>\n",
       "      <td>Private not-for-profit</td>\n",
       "      <td>Master's Colleges &amp; Universities: Larger Programs</td>\n",
       "      <td>11</td>\n",
       "      <td>3163</td>\n",
       "      <td>2286</td>\n",
       "      <td>5639254.0</td>\n",
       "      <td>97.0</td>\n",
       "      <td>96.0</td>\n",
       "    </tr>\n",
       "    <tr>\n",
       "      <th>496</th>\n",
       "      <td>Saint Martin’s University in Lacey, WA, one of...</td>\n",
       "      <td>497</td>\n",
       "      <td>Saint Martin's University</td>\n",
       "      <td>WA</td>\n",
       "      <td>1980</td>\n",
       "      <td>Urban</td>\n",
       "      <td>102100.0</td>\n",
       "      <td>NaN</td>\n",
       "      <td>NaN</td>\n",
       "      <td>NaN</td>\n",
       "      <td>...</td>\n",
       "      <td>NaN</td>\n",
       "      <td>WA</td>\n",
       "      <td>Private not-for-profit</td>\n",
       "      <td>Master's Colleges &amp; Universities: Medium Programs</td>\n",
       "      <td>12</td>\n",
       "      <td>1980</td>\n",
       "      <td>1644</td>\n",
       "      <td>9759540.0</td>\n",
       "      <td>99.0</td>\n",
       "      <td>99.0</td>\n",
       "    </tr>\n",
       "    <tr>\n",
       "      <th>497</th>\n",
       "      <td>The University of Memphis is a large public re...</td>\n",
       "      <td>498</td>\n",
       "      <td>University of Memphis</td>\n",
       "      <td>TN</td>\n",
       "      <td>25128</td>\n",
       "      <td>Urban</td>\n",
       "      <td>90700.0</td>\n",
       "      <td>-89.939618</td>\n",
       "      <td>35.118453</td>\n",
       "      <td>http://www.mephis.edu</td>\n",
       "      <td>...</td>\n",
       "      <td>1912.0</td>\n",
       "      <td>TN</td>\n",
       "      <td>Public</td>\n",
       "      <td>Doctoral Universities: High Research Activity</td>\n",
       "      <td>16</td>\n",
       "      <td>25128</td>\n",
       "      <td>20011</td>\n",
       "      <td>27575189.0</td>\n",
       "      <td>98.0</td>\n",
       "      <td>97.0</td>\n",
       "    </tr>\n",
       "  </tbody>\n",
       "</table>\n",
       "<p>498 rows × 25 columns</p>\n",
       "</div>"
      ],
      "text/plain": [
       "                                           description  rank  \\\n",
       "0    A leading global research university, MIT attr...     1   \n",
       "1    Stanford University sits just outside of Palo ...     2   \n",
       "2    One of the top public universities in the coun...     2   \n",
       "3    Princeton is a leading private research univer...     4   \n",
       "4    Located in upper Manhattan, Columbia Universit...     5   \n",
       "..                                                 ...   ...   \n",
       "493  St. Joseph’s College is a private institution ...   494   \n",
       "494  A liberal arts college founded by the Moravian...   495   \n",
       "495  Lawrence Technological University in Southfiel...   496   \n",
       "496  Saint Martin’s University in Lacey, WA, one of...   497   \n",
       "497  The University of Memphis is a large public re...   498   \n",
       "\n",
       "                          organizationName state  studentPopulation  \\\n",
       "0    Massachusetts Institute of Technology    MA              12195   \n",
       "1                      Stanford University    CA              20961   \n",
       "2       University of California, Berkeley    CA              45878   \n",
       "3                     Princeton University    NJ               8532   \n",
       "4                      Columbia University    NY              33882   \n",
       "..                                     ...   ...                ...   \n",
       "493              St. Joseph's College (NY)    NY               5901   \n",
       "494                    Moravian University    PA               2961   \n",
       "495      Lawrence Technological University    MI               3163   \n",
       "496              Saint Martin's University    WA               1980   \n",
       "497                  University of Memphis    TN              25128   \n",
       "\n",
       "    campusSetting  medianBaseSalary   longitude   latitude  \\\n",
       "0           Urban          173700.0  -71.093539  42.359006   \n",
       "1        Suburban          173500.0 -122.168924  37.431370   \n",
       "2           Urban          154500.0 -122.258393  37.869236   \n",
       "3           Urban          167600.0  -74.659119  40.349855   \n",
       "4           Urban          148800.0  -73.961288  40.806515   \n",
       "..            ...               ...         ...        ...   \n",
       "493         Urban          100900.0  -73.968304  40.690548   \n",
       "494         Urban          109800.0  -75.381596  40.630303   \n",
       "495         Urban          119900.0  -83.278458  42.450606   \n",
       "496         Urban          102100.0         NaN        NaN   \n",
       "497         Urban           90700.0  -89.939618  35.118453   \n",
       "\n",
       "                        website  ... yearFounded stateCode  \\\n",
       "0            http://web.mit.edu  ...      1861.0        MA   \n",
       "1       http://www.stanford.edu  ...      1891.0        CA   \n",
       "2       http://www.berkeley.edu  ...      1868.0        CA   \n",
       "3      http://www.princeton.edu  ...      1746.0        NJ   \n",
       "4       http://www.columbia.edu  ...      1754.0        NY   \n",
       "..                          ...  ...         ...       ...   \n",
       "493        http://www.sjcny.edu  ...      1916.0        NY   \n",
       "494     http://www.moravian.edu  ...      1742.0        PA   \n",
       "495  http://https://www.ltu.edu  ...         NaN        MI   \n",
       "496                         NaN  ...         NaN        WA   \n",
       "497       http://www.mephis.edu  ...      1912.0        TN   \n",
       "\n",
       "                collegeType  \\\n",
       "0    Private not-for-profit   \n",
       "1    Private not-for-profit   \n",
       "2                    Public   \n",
       "3    Private not-for-profit   \n",
       "4    Private not-for-profit   \n",
       "..                      ...   \n",
       "493  Private not-for-profit   \n",
       "494  Private not-for-profit   \n",
       "495  Private not-for-profit   \n",
       "496  Private not-for-profit   \n",
       "497                  Public   \n",
       "\n",
       "                                carnegieClassification studentFacultyRatio  \\\n",
       "0    Doctoral Universities: Very High Research Acti...                   3   \n",
       "1    Doctoral Universities: Very High Research Acti...                   4   \n",
       "2    Doctoral Universities: Very High Research Acti...                  19   \n",
       "3    Doctoral Universities: Very High Research Acti...                   4   \n",
       "4    Doctoral Universities: Very High Research Acti...                   6   \n",
       "..                                                 ...                 ...   \n",
       "493  Master's Colleges & Universities: Medium Programs                  12   \n",
       "494      Baccalaureate Colleges: Arts & Sciences Focus                  11   \n",
       "495  Master's Colleges & Universities: Larger Programs                  11   \n",
       "496  Master's Colleges & Universities: Medium Programs                  12   \n",
       "497      Doctoral Universities: High Research Activity                  16   \n",
       "\n",
       "     totalStudentPop undergradPop totalGrantAid percentOfStudentsFinAid  \\\n",
       "0              12195         4582    35299332.0                    75.0   \n",
       "1              20961         8464    51328461.0                    70.0   \n",
       "2              45878        33208    64495611.0                    63.0   \n",
       "3               8532         5516    44871096.0                    62.0   \n",
       "4              33882         8689    44615007.0                    58.0   \n",
       "..               ...          ...           ...                     ...   \n",
       "493             5901         4429    11919881.0                    99.0   \n",
       "494             2961         2268    12685943.0                   100.0   \n",
       "495             3163         2286     5639254.0                    97.0   \n",
       "496             1980         1644     9759540.0                    99.0   \n",
       "497            25128        20011    27575189.0                    98.0   \n",
       "\n",
       "     percentOfStudentsGrant  \n",
       "0                      60.0  \n",
       "1                      55.0  \n",
       "2                      53.0  \n",
       "3                      61.0  \n",
       "4                      54.0  \n",
       "..                      ...  \n",
       "493                    99.0  \n",
       "494                   100.0  \n",
       "495                    96.0  \n",
       "496                    99.0  \n",
       "497                    97.0  \n",
       "\n",
       "[498 rows x 25 columns]"
      ]
     },
     "execution_count": 35,
     "metadata": {},
     "output_type": "execute_result"
    }
   ],
   "source": [
    "df = pd.read_csv(\"colleges.csv\")\n",
    "df"
   ]
  },
  {
   "cell_type": "markdown",
   "metadata": {
    "id": "sc36rSvHxFnn"
   },
   "source": [
    "**TASK 2.1 (2 POINTS):** Some entries of the dataframe are NaN. remove those entries."
   ]
  },
  {
   "cell_type": "code",
   "execution_count": 36,
   "metadata": {
    "id": "uGDjmtvMxFnn"
   },
   "outputs": [
    {
     "data": {
      "text/html": [
       "<div>\n",
       "<style scoped>\n",
       "    .dataframe tbody tr th:only-of-type {\n",
       "        vertical-align: middle;\n",
       "    }\n",
       "\n",
       "    .dataframe tbody tr th {\n",
       "        vertical-align: top;\n",
       "    }\n",
       "\n",
       "    .dataframe thead th {\n",
       "        text-align: right;\n",
       "    }\n",
       "</style>\n",
       "<table border=\"1\" class=\"dataframe\">\n",
       "  <thead>\n",
       "    <tr style=\"text-align: right;\">\n",
       "      <th></th>\n",
       "      <th>description</th>\n",
       "      <th>rank</th>\n",
       "      <th>organizationName</th>\n",
       "      <th>state</th>\n",
       "      <th>studentPopulation</th>\n",
       "      <th>campusSetting</th>\n",
       "      <th>medianBaseSalary</th>\n",
       "      <th>longitude</th>\n",
       "      <th>latitude</th>\n",
       "      <th>website</th>\n",
       "      <th>...</th>\n",
       "      <th>yearFounded</th>\n",
       "      <th>stateCode</th>\n",
       "      <th>collegeType</th>\n",
       "      <th>carnegieClassification</th>\n",
       "      <th>studentFacultyRatio</th>\n",
       "      <th>totalStudentPop</th>\n",
       "      <th>undergradPop</th>\n",
       "      <th>totalGrantAid</th>\n",
       "      <th>percentOfStudentsFinAid</th>\n",
       "      <th>percentOfStudentsGrant</th>\n",
       "    </tr>\n",
       "  </thead>\n",
       "  <tbody>\n",
       "    <tr>\n",
       "      <th>0</th>\n",
       "      <td>A leading global research university, MIT attr...</td>\n",
       "      <td>1</td>\n",
       "      <td>Massachusetts Institute of Technology</td>\n",
       "      <td>MA</td>\n",
       "      <td>12195</td>\n",
       "      <td>Urban</td>\n",
       "      <td>173700.0</td>\n",
       "      <td>-71.093539</td>\n",
       "      <td>42.359006</td>\n",
       "      <td>http://web.mit.edu</td>\n",
       "      <td>...</td>\n",
       "      <td>1861.0</td>\n",
       "      <td>MA</td>\n",
       "      <td>Private not-for-profit</td>\n",
       "      <td>Doctoral Universities: Very High Research Acti...</td>\n",
       "      <td>3</td>\n",
       "      <td>12195</td>\n",
       "      <td>4582</td>\n",
       "      <td>35299332.0</td>\n",
       "      <td>75.0</td>\n",
       "      <td>60.0</td>\n",
       "    </tr>\n",
       "    <tr>\n",
       "      <th>1</th>\n",
       "      <td>Stanford University sits just outside of Palo ...</td>\n",
       "      <td>2</td>\n",
       "      <td>Stanford University</td>\n",
       "      <td>CA</td>\n",
       "      <td>20961</td>\n",
       "      <td>Suburban</td>\n",
       "      <td>173500.0</td>\n",
       "      <td>-122.168924</td>\n",
       "      <td>37.431370</td>\n",
       "      <td>http://www.stanford.edu</td>\n",
       "      <td>...</td>\n",
       "      <td>1891.0</td>\n",
       "      <td>CA</td>\n",
       "      <td>Private not-for-profit</td>\n",
       "      <td>Doctoral Universities: Very High Research Acti...</td>\n",
       "      <td>4</td>\n",
       "      <td>20961</td>\n",
       "      <td>8464</td>\n",
       "      <td>51328461.0</td>\n",
       "      <td>70.0</td>\n",
       "      <td>55.0</td>\n",
       "    </tr>\n",
       "    <tr>\n",
       "      <th>2</th>\n",
       "      <td>One of the top public universities in the coun...</td>\n",
       "      <td>2</td>\n",
       "      <td>University of California, Berkeley</td>\n",
       "      <td>CA</td>\n",
       "      <td>45878</td>\n",
       "      <td>Urban</td>\n",
       "      <td>154500.0</td>\n",
       "      <td>-122.258393</td>\n",
       "      <td>37.869236</td>\n",
       "      <td>http://www.berkeley.edu</td>\n",
       "      <td>...</td>\n",
       "      <td>1868.0</td>\n",
       "      <td>CA</td>\n",
       "      <td>Public</td>\n",
       "      <td>Doctoral Universities: Very High Research Acti...</td>\n",
       "      <td>19</td>\n",
       "      <td>45878</td>\n",
       "      <td>33208</td>\n",
       "      <td>64495611.0</td>\n",
       "      <td>63.0</td>\n",
       "      <td>53.0</td>\n",
       "    </tr>\n",
       "    <tr>\n",
       "      <th>3</th>\n",
       "      <td>Princeton is a leading private research univer...</td>\n",
       "      <td>4</td>\n",
       "      <td>Princeton University</td>\n",
       "      <td>NJ</td>\n",
       "      <td>8532</td>\n",
       "      <td>Urban</td>\n",
       "      <td>167600.0</td>\n",
       "      <td>-74.659119</td>\n",
       "      <td>40.349855</td>\n",
       "      <td>http://www.princeton.edu</td>\n",
       "      <td>...</td>\n",
       "      <td>1746.0</td>\n",
       "      <td>NJ</td>\n",
       "      <td>Private not-for-profit</td>\n",
       "      <td>Doctoral Universities: Very High Research Acti...</td>\n",
       "      <td>4</td>\n",
       "      <td>8532</td>\n",
       "      <td>5516</td>\n",
       "      <td>44871096.0</td>\n",
       "      <td>62.0</td>\n",
       "      <td>61.0</td>\n",
       "    </tr>\n",
       "    <tr>\n",
       "      <th>4</th>\n",
       "      <td>Located in upper Manhattan, Columbia Universit...</td>\n",
       "      <td>5</td>\n",
       "      <td>Columbia University</td>\n",
       "      <td>NY</td>\n",
       "      <td>33882</td>\n",
       "      <td>Urban</td>\n",
       "      <td>148800.0</td>\n",
       "      <td>-73.961288</td>\n",
       "      <td>40.806515</td>\n",
       "      <td>http://www.columbia.edu</td>\n",
       "      <td>...</td>\n",
       "      <td>1754.0</td>\n",
       "      <td>NY</td>\n",
       "      <td>Private not-for-profit</td>\n",
       "      <td>Doctoral Universities: Very High Research Acti...</td>\n",
       "      <td>6</td>\n",
       "      <td>33882</td>\n",
       "      <td>8689</td>\n",
       "      <td>44615007.0</td>\n",
       "      <td>58.0</td>\n",
       "      <td>54.0</td>\n",
       "    </tr>\n",
       "    <tr>\n",
       "      <th>...</th>\n",
       "      <td>...</td>\n",
       "      <td>...</td>\n",
       "      <td>...</td>\n",
       "      <td>...</td>\n",
       "      <td>...</td>\n",
       "      <td>...</td>\n",
       "      <td>...</td>\n",
       "      <td>...</td>\n",
       "      <td>...</td>\n",
       "      <td>...</td>\n",
       "      <td>...</td>\n",
       "      <td>...</td>\n",
       "      <td>...</td>\n",
       "      <td>...</td>\n",
       "      <td>...</td>\n",
       "      <td>...</td>\n",
       "      <td>...</td>\n",
       "      <td>...</td>\n",
       "      <td>...</td>\n",
       "      <td>...</td>\n",
       "      <td>...</td>\n",
       "    </tr>\n",
       "    <tr>\n",
       "      <th>490</th>\n",
       "      <td>Loyola University New Orleans provides student...</td>\n",
       "      <td>491</td>\n",
       "      <td>Loyola University New Orleans</td>\n",
       "      <td>LA</td>\n",
       "      <td>4972</td>\n",
       "      <td>Urban</td>\n",
       "      <td>102300.0</td>\n",
       "      <td>-90.077714</td>\n",
       "      <td>29.953690</td>\n",
       "      <td>http://www.loyno.edu</td>\n",
       "      <td>...</td>\n",
       "      <td>1904.0</td>\n",
       "      <td>LA</td>\n",
       "      <td>Private not-for-profit</td>\n",
       "      <td>Doctoral/Professional Universities</td>\n",
       "      <td>13</td>\n",
       "      <td>4972</td>\n",
       "      <td>3538</td>\n",
       "      <td>26114959.0</td>\n",
       "      <td>99.0</td>\n",
       "      <td>99.0</td>\n",
       "    </tr>\n",
       "    <tr>\n",
       "      <th>491</th>\n",
       "      <td>Xavier University is a Jesuit Catholic school ...</td>\n",
       "      <td>492</td>\n",
       "      <td>Xavier University</td>\n",
       "      <td>OH</td>\n",
       "      <td>8079</td>\n",
       "      <td>Urban</td>\n",
       "      <td>104900.0</td>\n",
       "      <td>-84.476379</td>\n",
       "      <td>39.149037</td>\n",
       "      <td>http://www.xavier.edu</td>\n",
       "      <td>...</td>\n",
       "      <td>1831.0</td>\n",
       "      <td>OH</td>\n",
       "      <td>Private not-for-profit</td>\n",
       "      <td>Master's Colleges &amp; Universities: Larger Programs</td>\n",
       "      <td>11</td>\n",
       "      <td>8079</td>\n",
       "      <td>5473</td>\n",
       "      <td>28294277.0</td>\n",
       "      <td>100.0</td>\n",
       "      <td>100.0</td>\n",
       "    </tr>\n",
       "    <tr>\n",
       "      <th>493</th>\n",
       "      <td>St. Joseph’s College is a private institution ...</td>\n",
       "      <td>494</td>\n",
       "      <td>St. Joseph's College (NY)</td>\n",
       "      <td>NY</td>\n",
       "      <td>5901</td>\n",
       "      <td>Urban</td>\n",
       "      <td>100900.0</td>\n",
       "      <td>-73.968304</td>\n",
       "      <td>40.690548</td>\n",
       "      <td>http://www.sjcny.edu</td>\n",
       "      <td>...</td>\n",
       "      <td>1916.0</td>\n",
       "      <td>NY</td>\n",
       "      <td>Private not-for-profit</td>\n",
       "      <td>Master's Colleges &amp; Universities: Medium Programs</td>\n",
       "      <td>12</td>\n",
       "      <td>5901</td>\n",
       "      <td>4429</td>\n",
       "      <td>11919881.0</td>\n",
       "      <td>99.0</td>\n",
       "      <td>99.0</td>\n",
       "    </tr>\n",
       "    <tr>\n",
       "      <th>494</th>\n",
       "      <td>A liberal arts college founded by the Moravian...</td>\n",
       "      <td>495</td>\n",
       "      <td>Moravian University</td>\n",
       "      <td>PA</td>\n",
       "      <td>2961</td>\n",
       "      <td>Urban</td>\n",
       "      <td>109800.0</td>\n",
       "      <td>-75.381596</td>\n",
       "      <td>40.630303</td>\n",
       "      <td>http://www.moravian.edu</td>\n",
       "      <td>...</td>\n",
       "      <td>1742.0</td>\n",
       "      <td>PA</td>\n",
       "      <td>Private not-for-profit</td>\n",
       "      <td>Baccalaureate Colleges: Arts &amp; Sciences Focus</td>\n",
       "      <td>11</td>\n",
       "      <td>2961</td>\n",
       "      <td>2268</td>\n",
       "      <td>12685943.0</td>\n",
       "      <td>100.0</td>\n",
       "      <td>100.0</td>\n",
       "    </tr>\n",
       "    <tr>\n",
       "      <th>497</th>\n",
       "      <td>The University of Memphis is a large public re...</td>\n",
       "      <td>498</td>\n",
       "      <td>University of Memphis</td>\n",
       "      <td>TN</td>\n",
       "      <td>25128</td>\n",
       "      <td>Urban</td>\n",
       "      <td>90700.0</td>\n",
       "      <td>-89.939618</td>\n",
       "      <td>35.118453</td>\n",
       "      <td>http://www.mephis.edu</td>\n",
       "      <td>...</td>\n",
       "      <td>1912.0</td>\n",
       "      <td>TN</td>\n",
       "      <td>Public</td>\n",
       "      <td>Doctoral Universities: High Research Activity</td>\n",
       "      <td>16</td>\n",
       "      <td>25128</td>\n",
       "      <td>20011</td>\n",
       "      <td>27575189.0</td>\n",
       "      <td>98.0</td>\n",
       "      <td>97.0</td>\n",
       "    </tr>\n",
       "  </tbody>\n",
       "</table>\n",
       "<p>422 rows × 25 columns</p>\n",
       "</div>"
      ],
      "text/plain": [
       "                                           description  rank  \\\n",
       "0    A leading global research university, MIT attr...     1   \n",
       "1    Stanford University sits just outside of Palo ...     2   \n",
       "2    One of the top public universities in the coun...     2   \n",
       "3    Princeton is a leading private research univer...     4   \n",
       "4    Located in upper Manhattan, Columbia Universit...     5   \n",
       "..                                                 ...   ...   \n",
       "490  Loyola University New Orleans provides student...   491   \n",
       "491  Xavier University is a Jesuit Catholic school ...   492   \n",
       "493  St. Joseph’s College is a private institution ...   494   \n",
       "494  A liberal arts college founded by the Moravian...   495   \n",
       "497  The University of Memphis is a large public re...   498   \n",
       "\n",
       "                          organizationName state  studentPopulation  \\\n",
       "0    Massachusetts Institute of Technology    MA              12195   \n",
       "1                      Stanford University    CA              20961   \n",
       "2       University of California, Berkeley    CA              45878   \n",
       "3                     Princeton University    NJ               8532   \n",
       "4                      Columbia University    NY              33882   \n",
       "..                                     ...   ...                ...   \n",
       "490          Loyola University New Orleans    LA               4972   \n",
       "491                      Xavier University    OH               8079   \n",
       "493              St. Joseph's College (NY)    NY               5901   \n",
       "494                    Moravian University    PA               2961   \n",
       "497                  University of Memphis    TN              25128   \n",
       "\n",
       "    campusSetting  medianBaseSalary   longitude   latitude  \\\n",
       "0           Urban          173700.0  -71.093539  42.359006   \n",
       "1        Suburban          173500.0 -122.168924  37.431370   \n",
       "2           Urban          154500.0 -122.258393  37.869236   \n",
       "3           Urban          167600.0  -74.659119  40.349855   \n",
       "4           Urban          148800.0  -73.961288  40.806515   \n",
       "..            ...               ...         ...        ...   \n",
       "490         Urban          102300.0  -90.077714  29.953690   \n",
       "491         Urban          104900.0  -84.476379  39.149037   \n",
       "493         Urban          100900.0  -73.968304  40.690548   \n",
       "494         Urban          109800.0  -75.381596  40.630303   \n",
       "497         Urban           90700.0  -89.939618  35.118453   \n",
       "\n",
       "                      website  ... yearFounded stateCode  \\\n",
       "0          http://web.mit.edu  ...      1861.0        MA   \n",
       "1     http://www.stanford.edu  ...      1891.0        CA   \n",
       "2     http://www.berkeley.edu  ...      1868.0        CA   \n",
       "3    http://www.princeton.edu  ...      1746.0        NJ   \n",
       "4     http://www.columbia.edu  ...      1754.0        NY   \n",
       "..                        ...  ...         ...       ...   \n",
       "490      http://www.loyno.edu  ...      1904.0        LA   \n",
       "491     http://www.xavier.edu  ...      1831.0        OH   \n",
       "493      http://www.sjcny.edu  ...      1916.0        NY   \n",
       "494   http://www.moravian.edu  ...      1742.0        PA   \n",
       "497     http://www.mephis.edu  ...      1912.0        TN   \n",
       "\n",
       "                collegeType  \\\n",
       "0    Private not-for-profit   \n",
       "1    Private not-for-profit   \n",
       "2                    Public   \n",
       "3    Private not-for-profit   \n",
       "4    Private not-for-profit   \n",
       "..                      ...   \n",
       "490  Private not-for-profit   \n",
       "491  Private not-for-profit   \n",
       "493  Private not-for-profit   \n",
       "494  Private not-for-profit   \n",
       "497                  Public   \n",
       "\n",
       "                                carnegieClassification studentFacultyRatio  \\\n",
       "0    Doctoral Universities: Very High Research Acti...                   3   \n",
       "1    Doctoral Universities: Very High Research Acti...                   4   \n",
       "2    Doctoral Universities: Very High Research Acti...                  19   \n",
       "3    Doctoral Universities: Very High Research Acti...                   4   \n",
       "4    Doctoral Universities: Very High Research Acti...                   6   \n",
       "..                                                 ...                 ...   \n",
       "490                 Doctoral/Professional Universities                  13   \n",
       "491  Master's Colleges & Universities: Larger Programs                  11   \n",
       "493  Master's Colleges & Universities: Medium Programs                  12   \n",
       "494      Baccalaureate Colleges: Arts & Sciences Focus                  11   \n",
       "497      Doctoral Universities: High Research Activity                  16   \n",
       "\n",
       "     totalStudentPop undergradPop totalGrantAid percentOfStudentsFinAid  \\\n",
       "0              12195         4582    35299332.0                    75.0   \n",
       "1              20961         8464    51328461.0                    70.0   \n",
       "2              45878        33208    64495611.0                    63.0   \n",
       "3               8532         5516    44871096.0                    62.0   \n",
       "4              33882         8689    44615007.0                    58.0   \n",
       "..               ...          ...           ...                     ...   \n",
       "490             4972         3538    26114959.0                    99.0   \n",
       "491             8079         5473    28294277.0                   100.0   \n",
       "493             5901         4429    11919881.0                    99.0   \n",
       "494             2961         2268    12685943.0                   100.0   \n",
       "497            25128        20011    27575189.0                    98.0   \n",
       "\n",
       "     percentOfStudentsGrant  \n",
       "0                      60.0  \n",
       "1                      55.0  \n",
       "2                      53.0  \n",
       "3                      61.0  \n",
       "4                      54.0  \n",
       "..                      ...  \n",
       "490                    99.0  \n",
       "491                   100.0  \n",
       "493                    99.0  \n",
       "494                   100.0  \n",
       "497                    97.0  \n",
       "\n",
       "[422 rows x 25 columns]"
      ]
     },
     "execution_count": 36,
     "metadata": {},
     "output_type": "execute_result"
    }
   ],
   "source": [
    "df = df.dropna()\n",
    "df"
   ]
  },
  {
   "cell_type": "markdown",
   "metadata": {
    "id": "gcqr3fjkxFnn"
   },
   "source": [
    "#Q3)  (8 POINTS) Hypothesis Testing"
   ]
  },
  {
   "cell_type": "markdown",
   "metadata": {
    "id": "vJseQzaaxFnn"
   },
   "source": [
    "Try to find relationships in this dataset through hypothesis testing. For each hypothesis test:\n",
    "\n",
    "- First chose a null hypothesis, or a statement that there is no effect between different variables, that serves as a default assumption.\n",
    "\n",
    "- Then chose an alternative hypothesis, or a statement that suggests that there is a correlation between different variables.\n",
    "\n",
    "For the questions below, assume $\\alpha = 0.05$."
   ]
  },
  {
   "cell_type": "markdown",
   "metadata": {
    "id": "TJlwAeQCxFnn"
   },
   "source": [
    "## First Hypothesis"
   ]
  },
  {
   "cell_type": "markdown",
   "metadata": {
    "id": "KTzMNuzOxFnn"
   },
   "source": [
    "- HO: The region of the college does not have an effect on the likelihood of the college type.\n",
    "\n",
    "- HA: The region of the college does have an effect on the likelihood of the college type."
   ]
  },
  {
   "cell_type": "markdown",
   "metadata": {
    "id": "sAJ5Ys87xFnn"
   },
   "source": [
    "Our plan is to apply a chi-squared test. You may find it helpful to consult the `scipy.stats` library's documentation:\n",
    "https://docs.scipy.org/doc/scipy/reference/stats.html"
   ]
  },
  {
   "cell_type": "markdown",
   "metadata": {
    "id": "ejZSrDUVxFnn"
   },
   "source": [
    "Contingency table is a table used in statistics to display the frequency distribution of variables. It will help us perform a chi-squared test on our data. You can find more information on contingency table here - https://en.wikipedia.org/wiki/Contingency_table"
   ]
  },
  {
   "cell_type": "markdown",
   "metadata": {
    "id": "XdZi1x-UxFnn"
   },
   "source": [
    "**TASK 3.1 (2 POINTS)**: Create a contingency table and display it."
   ]
  },
  {
   "cell_type": "code",
   "execution_count": 62,
   "metadata": {
    "id": "Mge-6Jh2xFnn"
   },
   "outputs": [
    {
     "data": {
      "text/html": [
       "<div>\n",
       "<style scoped>\n",
       "    .dataframe tbody tr th:only-of-type {\n",
       "        vertical-align: middle;\n",
       "    }\n",
       "\n",
       "    .dataframe tbody tr th {\n",
       "        vertical-align: top;\n",
       "    }\n",
       "\n",
       "    .dataframe thead th {\n",
       "        text-align: right;\n",
       "    }\n",
       "</style>\n",
       "<table border=\"1\" class=\"dataframe\">\n",
       "  <thead>\n",
       "    <tr style=\"text-align: right;\">\n",
       "      <th>collegeType</th>\n",
       "      <th>Private not-for-profit</th>\n",
       "      <th>Public</th>\n",
       "    </tr>\n",
       "    <tr>\n",
       "      <th>region</th>\n",
       "      <th></th>\n",
       "      <th></th>\n",
       "    </tr>\n",
       "  </thead>\n",
       "  <tbody>\n",
       "    <tr>\n",
       "      <th>Midwest</th>\n",
       "      <td>54</td>\n",
       "      <td>37</td>\n",
       "    </tr>\n",
       "    <tr>\n",
       "      <th>Northeast</th>\n",
       "      <td>109</td>\n",
       "      <td>39</td>\n",
       "    </tr>\n",
       "    <tr>\n",
       "      <th>South</th>\n",
       "      <td>37</td>\n",
       "      <td>57</td>\n",
       "    </tr>\n",
       "    <tr>\n",
       "      <th>West</th>\n",
       "      <td>37</td>\n",
       "      <td>52</td>\n",
       "    </tr>\n",
       "  </tbody>\n",
       "</table>\n",
       "</div>"
      ],
      "text/plain": [
       "collegeType  Private not-for-profit  Public\n",
       "region                                     \n",
       "Midwest                          54      37\n",
       "Northeast                       109      39\n",
       "South                            37      57\n",
       "West                             37      52"
      ]
     },
     "execution_count": 62,
     "metadata": {},
     "output_type": "execute_result"
    }
   ],
   "source": [
    "# Get the two categorical groups : region and college type\n",
    "contingency_table = pd.crosstab(df['region'], df['collegeType'])\n",
    "contingency_table"
   ]
  },
  {
   "cell_type": "markdown",
   "metadata": {
    "id": "-299BtA5xFno"
   },
   "source": [
    "**TASK 3.2 (2 POINTS)**: Why would we consider using a chi-squared test specifically (as opposed to some other hypothesis test)?"
   ]
  },
  {
   "cell_type": "markdown",
   "metadata": {
    "id": "z6BLDJ7kxFno"
   },
   "source": [
    "> Since the hypotheses are comparing categorical groups, the chi-squared test is the best test to use. The other hypthesis tests like t-test, z-test, and ANOVA all deal with continuous variables. The chi-squared test is the only hypothesis test we learned about that statisically analyzes categorical variables."
   ]
  },
  {
   "cell_type": "markdown",
   "metadata": {
    "id": "C_4Y0c3rxFno"
   },
   "source": [
    "**TASK 3.3 (2 POINTS)**: Create a plot showing the relationship between the regions and the no. of private colleges in it."
   ]
  },
  {
   "cell_type": "code",
   "execution_count": 55,
   "metadata": {
    "id": "X9I0g6Q7xFnq"
   },
   "outputs": [
    {
     "data": {
      "text/plain": [
       "Text(0, 0.5, 'Amount of colleges per type')"
      ]
     },
     "execution_count": 55,
     "metadata": {},
     "output_type": "execute_result"
    },
    {
     "data": {
      "image/png": "[encoded data removed]",
      "text/plain": [
       "<Figure size 640x480 with 1 Axes>"
      ]
     },
     "metadata": {},
     "output_type": "display_data"
    }
   ],
   "source": [
    "# Any graph that can be easily identified as the prompt above is suffice\n",
    "plot = contingency_table.plot(kind='bar', stacked=False)\n",
    "plt.title(\"Region and college type\")\n",
    "plt.ylabel(\"Amount of colleges per type\")"
   ]
  },
  {
   "cell_type": "markdown",
   "metadata": {
    "id": "Mlzi9e3jxFnq"
   },
   "source": [
    "**TASK 3.4 (2 POINTS)**: Explain what you can infer from your plot"
   ]
  },
  {
   "cell_type": "markdown",
   "metadata": {
    "id": "6C0XA1bRxFnq"
   },
   "source": [
    "> I can infer that in the Northeast there is a greater amount of private colleges than public colleges. Also in the midwest there are more private colleges but less of a gap, so that is not as significant. In the south and west there are more public than private colleges, but not as significant as the differece in the northeast."
   ]
  },
  {
   "cell_type": "markdown",
   "metadata": {
    "id": "xf8VFmFuxFnq"
   },
   "source": [
    "#Q4) (5 POINTS) Conduct the chi-squared test"
   ]
  },
  {
   "cell_type": "markdown",
   "metadata": {
    "id": "G4L1JOyaxFnq"
   },
   "source": [
    "**TASK: 4.1 (2 POINTS):** Display the p-value of applying the chi-squared test using the `chi2_contingency()` function."
   ]
  },
  {
   "cell_type": "code",
   "execution_count": 68,
   "metadata": {
    "id": "b0o_ZJ93xFnq"
   },
   "outputs": [
    {
     "name": "stdout",
     "output_type": "stream",
     "text": [
      "p-value is:  4.1236859547961256e-08\n"
     ]
    }
   ],
   "source": [
    "\n",
    "statistic, p, dof, expected_freq = sts.chi2_contingency(contingency_table)\n",
    "print(\"p-value is: \", p)"
   ]
  },
  {
   "cell_type": "markdown",
   "metadata": {
    "id": "egAsKCedxFnq"
   },
   "source": [
    "**TASK: 4.2  (3 POINTS)**: Based on the p-value, determine whether to reject or fail to reject the null hypothesis. Explain your answer."
   ]
  },
  {
   "cell_type": "markdown",
   "metadata": {
    "id": "7zGZziq1xFnq"
   },
   "source": [
    "\n",
    "> You compare the p-value to the significance level, which for this problem is 0.05.  $\\alpha = 0.05$. p <= $\\alpha$, therefore we reject the null hypothesis. This is because the p-value is less than the predetermined significance value that represents the likelihood of a Type 1 error. Since the p-value is less than that likelihood, we can say we reject the null. This means that the region of the collect does effect what type of college it is."
   ]
  },
  {
   "cell_type": "markdown",
   "metadata": {
    "id": "Z7KycKn1xFnq"
   },
   "source": [
    "#Q5) (3 POINTS) A New Hypothesis\n",
    "\n",
    "\n"
   ]
  },
  {
   "cell_type": "markdown",
   "metadata": {
    "id": "aq50I4tfxFnq"
   },
   "source": [
    "Now create a new hypothesis test for whether the campus setting has an effect on the total student population. (Assume $\\alpha=0.05$)."
   ]
  },
  {
   "cell_type": "markdown",
   "metadata": {
    "id": "hZ2FFcYxxFnq"
   },
   "source": [
    "**TASK 5.1  (3 POINTS)**: Write down your null and alternative hypotheses:"
   ]
  },
  {
   "cell_type": "markdown",
   "metadata": {
    "id": "K1mWab_kxFnq"
   },
   "source": [
    "- HO: The campus setting does not have an effect on the total student population.\n",
    "- HA: The campus setting does effect the total student population."
   ]
  },
  {
   "cell_type": "markdown",
   "metadata": {
    "id": "za_l19WtxFnr"
   },
   "source": [
    "#Q6) (7 POINTS) Hypothesis Testing\n"
   ]
  },
  {
   "cell_type": "markdown",
   "metadata": {
    "id": "zs0sI7xtxFnr"
   },
   "source": [
    "**TASK 6.0**: Split the data into 3 different dataframes based on campus setting."
   ]
  },
  {
   "cell_type": "code",
   "execution_count": 77,
   "metadata": {
    "id": "ZMbBhrotxFnr"
   },
   "outputs": [],
   "source": [
    "urban = df[df['campusSetting'] == \"Urban\"]['totalStudentPop']\n",
    "suburban = df[df['campusSetting'] == \"Suburban\"]['totalStudentPop']\n",
    "rural = df[df['campusSetting'] == \"Rural\"]['totalStudentPop']"
   ]
  },
  {
   "cell_type": "markdown",
   "metadata": {
    "id": "W4E_BV9pxFnr"
   },
   "source": [
    "**TASK 6.1 (2 POINTS)**: Choose an appropriate hypothesis test and display the p-value of applying the that test."
   ]
  },
  {
   "cell_type": "code",
   "execution_count": null,
   "metadata": {
    "id": "jXkIU-7QxFnr"
   },
   "outputs": [
    {
     "name": "stdout",
     "output_type": "stream",
     "text": [
      "p-value:  5.371995673405588e-09\n",
      "True\n"
     ]
    }
   ],
   "source": [
    "statistic, p = sts.f_oneway(urban, suburban, rural)\n",
    "print(\"p-value: \", p)"
   ]
  },
  {
   "cell_type": "markdown",
   "metadata": {
    "id": "l2mibvwoxFnr"
   },
   "source": [
    "**TASK 6.2 \\(2 POINTS)**: Create a graph(s) using `matplotlib` to show the relationship between campus setting and total student population.\n"
   ]
  },
  {
   "cell_type": "code",
   "execution_count": 84,
   "metadata": {
    "id": "OZMWcPe5xFnr"
   },
   "outputs": [
    {
     "data": {
      "text/plain": [
       "[Text(1, 0, 'Urban'), Text(2, 0, 'Suburban'), Text(3, 0, 'Rural')]"
      ]
     },
     "execution_count": 84,
     "metadata": {},
     "output_type": "execute_result"
    },
    {
     "data": {
      "image/png": "[encoded data removed]",
      "text/plain": [
       "<Figure size 640x480 with 1 Axes>"
      ]
     },
     "metadata": {},
     "output_type": "display_data"
    }
   ],
   "source": [
    "figure, boxes = plt.subplots()\n",
    "boxes.boxplot([urban, suburban, rural])\n",
    "\n",
    "plt.title(\"How campus setting affects total student population\")\n",
    "plt.xlabel(\"Campus setting\")\n",
    "plt.ylabel(\"Total student population\")\n",
    "boxes.set_xticklabels(['Urban', 'Suburban', 'Rural'])"
   ]
  },
  {
   "cell_type": "markdown",
   "metadata": {
    "id": "g0Um94_oxFnr"
   },
   "source": [
    "**TASK 6.3 (3 POINTS)**: Based on the p-value, determine whether to reject or fail to reject the null hypothesis. Explain your answer."
   ]
  },
  {
   "cell_type": "markdown",
   "metadata": {
    "id": "GX2XXD6nxFnr"
   },
   "source": [
    "\n",
    "\n",
    "> We compare the p-value to the significance value. $\\alpha = 0.05$. p > $\\alpha$, which means that we reject the null hypothesis. This means that we take the alternative hypothesis of the campus setting does effect the total student population. Since the significance value is less than the p-value, we can say the evidence is strong enough to take the alternative hypothesis.\n"
   ]
  },
  {
   "cell_type": "markdown",
   "metadata": {
    "id": "BhaiFV4ExFns"
   },
   "source": [
    "#*Q7)* (2 POINTS) Post Hoc Tests"
   ]
  },
  {
   "cell_type": "markdown",
   "metadata": {
    "id": "n0-x_HCFxFns"
   },
   "source": [
    "**TASK 7.1 (2 POINTS)**: Why might we need post-hoc tests in this scenario?"
   ]
  },
  {
   "cell_type": "markdown",
   "metadata": {
    "id": "VIwW7JQrxFns"
   },
   "source": [
    "\n",
    "\n",
    "> The post-hoc test will further clarify the differences between the groups. While it appears there is a significant difference between the groups, we want to dig deeper into which specific groups there are significant differences. It compares each group with one other, so in pairs rather than them all together like in the ANOVA test."
   ]
  },
  {
   "cell_type": "markdown",
   "metadata": {
    "id": "Sro6I621xFns"
   },
   "source": [
    "**BONUS TASK 7.2 (2+1=3 POINTS)**: Apply a post-hoc test of your choice"
   ]
  },
  {
   "cell_type": "code",
   "execution_count": 86,
   "metadata": {
    "id": "8rTml3SFxFns"
   },
   "outputs": [
    {
     "name": "stdout",
     "output_type": "stream",
     "text": [
      "Tukey's HSD Pairwise Group Comparisons (95.0% Confidence Interval)\n",
      "Comparison  Statistic  p-value  Lower CI  Upper CI\n",
      " (0 - 1)   7378.097     0.000  3096.718 11659.476\n",
      " (0 - 2)  12722.707     0.000  7442.370 18003.044\n",
      " (1 - 0)  -7378.097     0.000-11659.476 -3096.718\n",
      " (1 - 2)   5344.610     0.089  -609.179 11298.400\n",
      " (2 - 0) -12722.707     0.000-18003.044 -7442.370\n",
      " (2 - 1)  -5344.610     0.089-11298.400   609.179\n",
      "\n"
     ]
    }
   ],
   "source": [
    "result = sts.tukey_hsd(urban, suburban, rural)\n",
    "print(result)"
   ]
  },
  {
   "cell_type": "markdown",
   "metadata": {
    "id": "nXlCEG3oxFns"
   },
   "source": [
    "\n",
    "> The p-values show that urban and suburan, and urban and rural have a significant difference between them (since 0.00 < 0.05), but suburban and rural does not. Since 0.089 > 0.05."
   ]
  },
  {
   "cell_type": "markdown",
   "metadata": {
    "id": "QOGvXsMMxFns"
   },
   "source": [
    "#*Q8)* (19 POINTS) Hypothesis Test"
   ]
  },
  {
   "cell_type": "markdown",
   "metadata": {
    "id": "XMLrOKZuxFns"
   },
   "source": [
    "Now create a new hypothesis test for whether the total grant aid has an affect on college ranking. (Assume $\\alpha=0.05$)."
   ]
  },
  {
   "cell_type": "markdown",
   "metadata": {
    "id": "MFF_U9AWxFns"
   },
   "source": [
    "**TASK 8.1 (3 POINTS):** Write down the null and alternative hypotheses below."
   ]
  },
  {
   "cell_type": "markdown",
   "metadata": {
    "id": "XUxyOW_ixFns"
   },
   "source": [
    "- HO: The total grant aid does not have an affect on college ranking.\n",
    "- HA: The total grant aid does have an affect on college ranking."
   ]
  },
  {
   "cell_type": "markdown",
   "metadata": {
    "id": "wHWLCbAUxFns"
   },
   "source": [
    "**TASK 8.2 (2 POINTS)**: Create a plot using `matplotlib` that visualizes your hypothesis."
   ]
  },
  {
   "cell_type": "code",
   "execution_count": 89,
   "metadata": {
    "id": "xBmWdOcyxFns"
   },
   "outputs": [
    {
     "data": {
      "text/plain": [
       "Text(0, 0.5, 'Ranking')"
      ]
     },
     "execution_count": 89,
     "metadata": {},
     "output_type": "execute_result"
    },
    {
     "data": {
      "image/png": "[encoded data removed]",
      "text/plain": [
       "<Figure size 640x480 with 1 Axes>"
      ]
     },
     "metadata": {},
     "output_type": "display_data"
    }
   ],
   "source": [
    "total_grant_aid = df['totalGrantAid']\n",
    "ranking = df['rank']\n",
    "\n",
    "figure, scat = plt.subplots()\n",
    "scat.scatter(total_grant_aid, ranking)\n",
    "\n",
    "plt.title(\"Grant aid on ranking\")\n",
    "plt.xlabel(\"Total Grant Aid\")\n",
    "plt.ylabel(\"Ranking\")\n"
   ]
  },
  {
   "cell_type": "markdown",
   "metadata": {
    "id": "StNwKUVJxFnt"
   },
   "source": [
    "**TASK 8.3 (3 POINTS):** Apply an appropriate hypothesis test and find the p-value of the it."
   ]
  },
  {
   "cell_type": "code",
   "execution_count": null,
   "metadata": {
    "id": "tpdna42ixFnt"
   },
   "outputs": [
    {
     "name": "stdout",
     "output_type": "stream",
     "text": [
      "p-value:  1.6248377454735554e-139\n",
      "True\n"
     ]
    }
   ],
   "source": [
    "# Mann-Whitney U test\n",
    "result, p = sts.mannwhitneyu(total_grant_aid, ranking)\n",
    "print(\"p-value: \", p)"
   ]
  },
  {
   "cell_type": "markdown",
   "metadata": {
    "id": "rFYuzjUWxFnt"
   },
   "source": [
    "**TASK 8.4 (3 POINTS)**: Based on the p-value, determine whether to reject or fail to reject the null hypothesis. Explain your answer."
   ]
  },
  {
   "cell_type": "markdown",
   "metadata": {
    "id": "vG-EBQjrxFnt"
   },
   "source": [
    "\n",
    "\n",
    "> We determine whether or not to reject or fail to reject the null hypothesis based on the comparison between the p-value and significant value. $\\alpha = 0.05$. We compare them: p < $\\alpha$, therefore we reject the null hypothesis. This means that the total grant aid for a college does affect their rank."
   ]
  },
  {
   "cell_type": "markdown",
   "metadata": {
    "id": "kyAgGFmExFnt"
   },
   "source": [
    "**TASK 8.5 (3 POINTS)**: Based on your previous answer, can you conclude that increasing grant aid will change a college's ranking? What is experimental procedure required to reach this conclusion?"
   ]
  },
  {
   "cell_type": "markdown",
   "metadata": {
    "id": "6VwlIpPfxFnt"
   },
   "source": [
    "\n",
    "\n",
    "> While it appears there is a correlation between grant aid and college ranking, it does not mean that grant aid causes college ranking. So no, you cannot conclude that increasing grant aid will change a college's ranking. In order to find causation, you must perform an experiment. The experimental procedure needed is to randomly pick colleges, and randomly give them an amount of grant aid. Then you can see how their colleges rankings compare to each other, to see if there is a causation."
   ]
  },
  {
   "cell_type": "markdown",
   "metadata": {
    "id": "oLEPhp1rxFnt"
   },
   "source": [
    "**TASK 8.6 (3 POINTS)**: What kind of t-test (right-tail or left-tail) would you use to verify the following hypothesis?\n",
    "\n",
    "*H0:* There is no difference in student to faculty ratio between private and public colleges\n",
    "\n",
    "*HA:* Private colleges have a smaller student to faculty ratio\n",
    "\n",
    "Also perform the test and print your p value.\n"
   ]
  },
  {
   "cell_type": "markdown",
   "metadata": {
    "id": "OtU-m-y_xFnt"
   },
   "source": [
    "> You would use a left-tail t-test because you are trying to prove that private colleges have a smaller ratio (less than the mean) than public colleges. Which means you are looking at the left side, or less than the mean.\n"
   ]
  },
  {
   "cell_type": "code",
   "execution_count": 100,
   "metadata": {
    "id": "GeiVGY2DxFnt"
   },
   "outputs": [
    {
     "name": "stdout",
     "output_type": "stream",
     "text": [
      "p-value:  2.6905666569529506e-75\n"
     ]
    }
   ],
   "source": [
    "private = df[df['collegeType'] != \"Public\"]['studentFacultyRatio']\n",
    "public = df[df['collegeType'] == \"Public\"]['studentFacultyRatio']\n",
    "\n",
    "statistic, p = sts.ttest_ind(private, public, alternative='less')\n",
    "print(\"p-value: \", p)"
   ]
  },
  {
   "cell_type": "markdown",
   "metadata": {
    "id": "E4B_dxvhxFnt"
   },
   "source": [
    "**TASK 8.7 (2 POINTS)**: Based on the p-value, determine whether to reject or fail to reject the null hypothesis. Explain your answer."
   ]
  },
  {
   "cell_type": "markdown",
   "metadata": {
    "id": "M-r9f5MtxFnt"
   },
   "source": [
    "> $\\alpha = 0.05$. So we compare 0.05 to the p-value. p < 0.05, which means that we reject the null hypothesis. This means that private schools do have a smaller student to faculty ratio."
   ]
  },
  {
   "cell_type": "markdown",
   "metadata": {
    "id": "9wEskV8cCmED"
   },
   "source": [
    "# THE END!"
   ]
  }
 ],
 "metadata": {
  "colab": {
   "provenance": [
    {
     "file_id": "1H9gH1I0FWR7fGhiJT1tt3NqcdnGqTSGl",
     "timestamp": 1709100369675
    }
   ]
  },
  "kernelspec": {
   "display_name": "Python 3",
   "language": "python",
   "name": "python3"
  },
  "language_info": {
   "codemirror_mode": {
    "name": "ipython",
    "version": 3
   },
   "file_extension": ".py",
   "mimetype": "text/x-python",
   "name": "python",
   "nbconvert_exporter": "python",
   "pygments_lexer": "ipython3",
   "version": "3.10.12"
  }
 },
 "nbformat": 4,
 "nbformat_minor": 0
}
